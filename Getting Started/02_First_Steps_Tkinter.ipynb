{
 "cells": [
  {
   "cell_type": "markdown",
   "metadata": {},
   "source": [
    "# Getting started with Tkinter"
   ]
  },
  {
   "cell_type": "markdown",
   "metadata": {},
   "source": [
    "In this notebook you will learn how to do fundamental things with Tkinter with respect to the given project of a squat analysis. We will need to: \n",
    "\n",
    " + Make a window for a GUI (Graphical User Interface)\n",
    " + Include several widgets into the window\n",
    " + Include a graph in the GUI"
   ]
  },
  {
   "cell_type": "markdown",
   "metadata": {},
   "source": [
    "## 0 Packages"
   ]
  },
  {
   "cell_type": "markdown",
   "metadata": {},
   "source": [
    "As always we need to import some packages so we can use their methods/functions"
   ]
  },
  {
   "cell_type": "code",
   "execution_count": 66,
   "metadata": {},
   "outputs": [],
   "source": [
    "import tkinter as tk\n",
    "import matplotlib.pyplot as plt\n",
    "from matplotlib.figure import Figure \n",
    "from matplotlib.backends.backend_tkagg import (FigureCanvasTkAgg,NavigationToolbar2Tk) \n"
   ]
  },
  {
   "cell_type": "markdown",
   "metadata": {},
   "source": [
    "## 1 Creating a Window\n",
    "\n",
    "As we need to see what an athlete is doing (squat), we need a graphical user interface. So let's creat one. At first we need to start with the fundamental page which is called a window in the package tkinter"
   ]
  },
  {
   "cell_type": "code",
   "execution_count": 59,
   "metadata": {},
   "outputs": [],
   "source": [
    "window = tk.Tk()"
   ]
  },
  {
   "cell_type": "markdown",
   "metadata": {},
   "source": [
    "## 2 Adding a Widget\n",
    "Now that you have a window, you can add a widget. Use the tk.Label class to add some text to a window. Create a Label widget with the text \"Hello, World\" and assign it to a variable called greeting:"
   ]
  },
  {
   "cell_type": "code",
   "execution_count": 60,
   "metadata": {},
   "outputs": [],
   "source": [
    "greeting = tk.Label(window,text=\"Hello, World\")\n",
    "greeting.pack()"
   ]
  },
  {
   "cell_type": "markdown",
   "metadata": {},
   "source": [
    "To see the GUI now we need to use the following command"
   ]
  },
  {
   "cell_type": "code",
   "execution_count": 61,
   "metadata": {},
   "outputs": [],
   "source": [
    "window.mainloop()"
   ]
  },
  {
   "cell_type": "markdown",
   "metadata": {},
   "source": [
    "Close the window to add new widgets to it, e.g. a label that includes a specific number (such as the angel of the knee)"
   ]
  },
  {
   "cell_type": "code",
   "execution_count": 62,
   "metadata": {},
   "outputs": [],
   "source": [
    "window = tk.Tk()\n",
    "mykneeangle=90\n",
    "greeting = tk.Label(window,text=\"Kneeangle: \" + str(mykneeangle))\n",
    "greeting.pack()\n",
    "window.mainloop()"
   ]
  },
  {
   "cell_type": "markdown",
   "metadata": {},
   "source": [
    "As we need to start the measurement somehow, we want to add a button as well"
   ]
  },
  {
   "cell_type": "code",
   "execution_count": 65,
   "metadata": {},
   "outputs": [],
   "source": [
    "# create a window\n",
    "window = tk.Tk()\n",
    "\n",
    "# button callback definition\n",
    "def button_start_callback():\n",
    "    global mykneeangle\n",
    "    mykneeangle=mykneeangle+1\n",
    "    greeting.config(text=\"Measurement started; Kneeangle: \" + str(mykneeangle))\n",
    "\n",
    "# create the startbutton\n",
    "button_start = tk.Button(\n",
    "    window,\n",
    "    text=\"Start\",\n",
    "    width=25,\n",
    "    height=5,\n",
    "    bg=\"white\",\n",
    "    fg=\"black\",\n",
    "    command= button_start_callback,\n",
    ")\n",
    "\n",
    "# create the label\n",
    "mykneeangle=90\n",
    "greeting = tk.Label(window,text=\"Kneeangle: \" + str(mykneeangle))\n",
    "\n",
    "# pack everything\n",
    "greeting.pack()\n",
    "button_start.pack()\n",
    "\n",
    "# show the GUI\n",
    "window.mainloop()"
   ]
  },
  {
   "cell_type": "markdown",
   "metadata": {},
   "source": [
    "## 3 Adding a Graph\n",
    "Now that you have a window and widgets we want to add a graph as well. To do so we include a canvas object in the GUI and place a plot within it"
   ]
  },
  {
   "cell_type": "code",
   "execution_count": 73,
   "metadata": {},
   "outputs": [],
   "source": [
    "# create a window\n",
    "window = tk.Tk()\n",
    "\n",
    "# definition of a button_plot_callback function to use\n",
    "def button_plot_callback(): \n",
    "  \n",
    "    # the figure that will contain the plot (size is given in inch --> 1 inch is 2,54 cm)\n",
    "    fig = Figure(figsize = (5, 5), \n",
    "                 dpi = 100) \n",
    "  \n",
    "    # list of squares \n",
    "    y = [i**2 for i in range(101)] \n",
    "  \n",
    "    # adding the subplot \n",
    "    plot1 = fig.add_subplot(111) \n",
    "  \n",
    "    # plotting the graph \n",
    "    plot1.plot(y) \n",
    "  \n",
    "    # creating the Tkinter canvas \n",
    "    # containing the Matplotlib figure \n",
    "    canvas = FigureCanvasTkAgg(fig, \n",
    "                               master = window)   \n",
    "    canvas.draw() \n",
    "  \n",
    "    # placing the canvas on the Tkinter window \n",
    "    canvas.get_tk_widget().pack() \n",
    "  \n",
    "    # creating the Matplotlib toolbar \n",
    "    toolbar = NavigationToolbar2Tk(canvas, \n",
    "                                   window) \n",
    "    toolbar.update() \n",
    "  \n",
    "    # placing the toolbar on the Tkinter window \n",
    "    canvas.get_tk_widget().pack() \n",
    "\n",
    "# setting the title and  \n",
    "window.title('Plotting in Tkinter') \n",
    "  \n",
    "# setting the dimensions of  \n",
    "# the main window \n",
    "window.geometry(\"500x500\") \n",
    "  \n",
    "# button that would displays the plot \n",
    "plot_button = tk.Button(master = window, \n",
    "                     height = 2, \n",
    "                     width = 10, \n",
    "                    text = \"Plot\",\n",
    "                    command= button_plot_callback,) \n",
    "# place the button \n",
    "# into the window \n",
    "plot_button.pack() \n",
    "  \n",
    "# run the gui \n",
    "window.mainloop()"
   ]
  },
  {
   "cell_type": "code",
   "execution_count": null,
   "metadata": {},
   "outputs": [],
   "source": []
  }
 ],
 "metadata": {
  "kernelspec": {
   "display_name": "Squat_Analysis",
   "language": "python",
   "name": "python3"
  },
  "language_info": {
   "codemirror_mode": {
    "name": "ipython",
    "version": 3
   },
   "file_extension": ".py",
   "mimetype": "text/x-python",
   "name": "python",
   "nbconvert_exporter": "python",
   "pygments_lexer": "ipython3",
   "version": "3.11.9"
  }
 },
 "nbformat": 4,
 "nbformat_minor": 2
}
